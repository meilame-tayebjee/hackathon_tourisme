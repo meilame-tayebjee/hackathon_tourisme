{
 "cells": [
  {
   "cell_type": "code",
   "execution_count": 3,
   "metadata": {},
   "outputs": [],
   "source": [
    "import overpy"
   ]
  },
  {
   "cell_type": "code",
   "execution_count": 4,
   "metadata": {},
   "outputs": [],
   "source": [
    "api = overpy.Overpass()"
   ]
  },
  {
   "cell_type": "code",
   "execution_count": 37,
   "metadata": {},
   "outputs": [
    {
     "name": "stdout",
     "output_type": "stream",
     "text": [
      "33\n"
     ]
    }
   ],
   "source": [
    "def queryOverpassAPI(api, entry_point, radius):\n",
    "    radius_km = int(radius * 1e3)\n",
    "    res = api.query(f\"[out:json];node(around:{radius_km},{entry_point[0]}, {entry_point[1]})[tourism][tourism != 'hotel'][tourism != 'restaurant'][tourism != 'guest_house'][tourism != 'hostel'][wheelchair]; out;\")\n",
    "    return res\n",
    "\n",
    "import json\n",
    "\n",
    "def parse_overpy_result(res):\n",
    "    results = []\n",
    "\n",
    "    # Iterate through all nodes in the result\n",
    "    for node in res.nodes:\n",
    "        formatted_node = {\n",
    "            \"type\": \"node\",\n",
    "            \"id\": float(node.id),\n",
    "            \"lat\": float(node.lat),\n",
    "            \"lon\": float(node.lon),\n",
    "            \"tags\": node.tags  # Tags are already a dictionary in Overpy\n",
    "        }\n",
    "        results.append(formatted_node)\n",
    "\n",
    "    return results\n",
    "\n",
    "\n",
    "\n",
    "res = queryOverpassAPI(api, [47.21716341184269, -1.54070794225733], radius = 20)\n",
    "parsed_results = parse_overpy_result(res)\n",
    "print(len(parsed_results))"
   ]
  }
 ],
 "metadata": {
  "kernelspec": {
   "display_name": "base",
   "language": "python",
   "name": "python3"
  },
  "language_info": {
   "codemirror_mode": {
    "name": "ipython",
    "version": 3
   },
   "file_extension": ".py",
   "mimetype": "text/x-python",
   "name": "python",
   "nbconvert_exporter": "python",
   "pygments_lexer": "ipython3",
   "version": "3.12.7"
  }
 },
 "nbformat": 4,
 "nbformat_minor": 2
}
