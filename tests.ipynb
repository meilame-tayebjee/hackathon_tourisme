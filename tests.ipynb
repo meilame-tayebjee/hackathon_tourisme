{
 "cells": [
  {
   "cell_type": "code",
   "execution_count": 5,
   "metadata": {},
   "outputs": [
    {
     "name": "stdout",
     "output_type": "stream",
     "text": [
      "The autoreload extension is already loaded. To reload it, use:\n",
      "  %reload_ext autoreload\n"
     ]
    }
   ],
   "source": [
    "from overpass_api_request import queryOverpassAPI\n",
    "from google_maps_api import GoogleMapsVisitorRetriever\n",
    "import overpy\n",
    "\n",
    "%load_ext autoreload\n",
    "%autoreload 2"
   ]
  },
  {
   "cell_type": "code",
   "execution_count": 2,
   "metadata": {},
   "outputs": [],
   "source": [
    "api = overpy.Overpass()"
   ]
  },
  {
   "cell_type": "code",
   "execution_count": 3,
   "metadata": {},
   "outputs": [
    {
     "name": "stdout",
     "output_type": "stream",
     "text": [
      "33\n"
     ]
    }
   ],
   "source": [
    "res = queryOverpassAPI(api, [47.21716341184269, -1.54070794225733], radius = 20)\n",
    "print(len(res))"
   ]
  },
  {
   "cell_type": "code",
   "execution_count": 16,
   "metadata": {},
   "outputs": [
    {
     "name": "stdout",
     "output_type": "stream",
     "text": [
      "[('Galerie des Machines de l’île', {'rating': 4.6, 'total_ratings': 39050, 'address': 'Parc des Chantiers, Bd Léon Bureau, 44200 Nantes, France', 'longitude': -1.5640668, 'latitude': 47.2060317}), (\"Musée d'histoire de Nantes\", {'rating': 4.6, 'total_ratings': 1113, 'address': '4 Pl. Marc Elder, 44000 Nantes, France', 'longitude': -1.5497506, 'latitude': 47.2158291}), ('La Baigneuse au Miroir', {'rating': 4.4, 'total_ratings': 972, 'address': 'Pl. Marc Elder, 44000 Nantes, France', 'longitude': -1.5426011, 'latitude': 47.2198057}), ('Voyage en Éléphant', {'rating': 4.7, 'total_ratings': 643, 'address': '5 Bd Léon Bureau, 44200 Nantes, France', 'longitude': -1.5645343, 'latitude': 47.2061287}), (\"L'Artichaut\", {'rating': 4.8, 'total_ratings': 450, 'address': '8rue du marais, 44000 Nantes, France', 'longitude': -1.5564028, 'latitude': 47.2181544}), ('Pop Corn Labyrinthe Nantes', {'rating': 4.2, 'total_ratings': 262, 'address': '1 Chem. des Ruettes, 44470 Carquefou, France', 'longitude': -1.4693522, 'latitude': 47.2892374}), ('tv quiz', {'rating': 5, 'total_ratings': 239, 'address': '1 Rue Léon Durocher, 44200 Nantes, France', 'longitude': -1.5608485, 'latitude': 47.2056801}), ('HAB Galerie', {'rating': 4.5, 'total_ratings': 219, 'address': '21 Quai des Antilles, 44200 Nantes, France', 'longitude': -1.5734783, 'latitude': 47.2006863})]\n"
     ]
    }
   ],
   "source": [
    "# Usage example\n",
    "retriever = GoogleMapsVisitorRetriever(os.environ.get(\"GOOGLE_MAPS_API\"))\n",
    "# Assume 'locations' is the list from the original data\n",
    "visitor_frequencies = retriever.process_locations(res)[:10]\n",
    "print(visitor_frequencies)"
   ]
  },
  {
   "cell_type": "code",
   "execution_count": 24,
   "metadata": {},
   "outputs": [],
   "source": [
    "locations = {visitor_frequencies[i][0]: visitor_frequencies[i][1] for i in range(len(visitor_frequencies))}"
   ]
  },
  {
   "cell_type": "code",
   "execution_count": 59,
   "metadata": {},
   "outputs": [
    {
     "name": "stdout",
     "output_type": "stream",
     "text": [
      "Optimized Route:\n",
      "- Voyage en Éléphant (Rating: 4.7, Address: 5 Bd Léon Bureau, 44200 Nantes, France) - 0.04 km\n",
      "- Galerie des Machines de l’île (Rating: 4.6, Address: Parc des Chantiers, Bd Léon Bureau, 44200 Nantes, France) - 0.25 km\n",
      "- tv quiz (Rating: 5, Address: 1 Rue Léon Durocher, 44200 Nantes, France) - 1.10 km\n",
      "- HAB Galerie (Rating: 4.5, Address: 21 Quai des Antilles, 44200 Nantes, France) - 2.33 km\n",
      "- L'Artichaut (Rating: 4.8, Address: 8rue du marais, 44000 Nantes, France) - 0.57 km\n",
      "- Musée d'histoire de Nantes (Rating: 4.6, Address: 4 Pl. Marc Elder, 44000 Nantes, France) - 0.70 km\n",
      "- La Baigneuse au Miroir (Rating: 4.4, Address: Pl. Marc Elder, 44000 Nantes, France) - 9.50 km\n",
      "- Pop Corn Labyrinthe Nantes (Rating: 4.2, Address: 1 Chem. des Ruettes, 44470 Carquefou, France) - 0.00 km\n",
      "\n",
      "Total Distance: 14.48 km\n"
     ]
    }
   ],
   "source": [
    "import math\n",
    "from itertools import permutations\n",
    "class RouteOptimizer:\n",
    "    @staticmethod\n",
    "    def haversine_distance(loc1, loc2):\n",
    "        \"\"\"Calculate geographical distance between two locations.\"\"\"\n",
    "        R = 6371  # Earth radius in kilometers\n",
    "        lat1, lon1 = loc1['latitude'], loc1['longitude']\n",
    "        lat2, lon2 = loc2['latitude'], loc2['longitude']\n",
    "        \n",
    "        dLat = math.radians(lat2 - lat1)\n",
    "        dLon = math.radians(lon2 - lon1)\n",
    "        a = (math.sin(dLat/2)**2 + \n",
    "             math.cos(math.radians(lat1)) * \n",
    "             math.cos(math.radians(lat2)) * \n",
    "             math.sin(dLon/2)**2)\n",
    "        c = 2 * math.atan2(math.sqrt(a), math.sqrt(1-a))\n",
    "        return R * c\n",
    "\n",
    "    @classmethod\n",
    "    def nearest_neighbor_route(cls, locations):\n",
    "        \"\"\"Optimize route using Nearest Neighbor algorithm.\"\"\"\n",
    "        unvisited = locations.copy()\n",
    "        route = [unvisited.pop(0)]  # Start with first location\n",
    "        \n",
    "        while unvisited:\n",
    "            current = route[-1][1]\n",
    "            nearest = min(unvisited, key=lambda loc: cls.haversine_distance(current, loc[1]))\n",
    "            route.append(nearest)\n",
    "            unvisited.remove(nearest)\n",
    "        \n",
    "        return route\n",
    "\n",
    "    @classmethod\n",
    "    def calculate_total_route_distance(cls, route):\n",
    "        \"\"\"Calculate total route distance.\"\"\"\n",
    "        res = [cls.haversine_distance(route[i][1], route[i+1][1]) \n",
    "                   for i in range(len(route)-1)]\n",
    "        res.append(0)\n",
    "        return res\n",
    "\n",
    "def optimize_nantes_route(locations):\n",
    "    # Extract location data\n",
    "    \n",
    "    # Full permutation approach (for small number of locations)\n",
    "    if len(locations) <= 10:\n",
    "        best_route = min(\n",
    "            permutations(locations), \n",
    "            key=lambda route: RouteOptimizer.calculate_total_route_distance(route)\n",
    "        )\n",
    "    else:\n",
    "        # Nearest neighbor for larger sets\n",
    "        best_route = RouteOptimizer.nearest_neighbor_route(locations)\n",
    "    \n",
    "    # Create detailed route information\n",
    "    route_info = []\n",
    "    distance_per_step = RouteOptimizer.calculate_total_route_distance(best_route)\n",
    "    total_distance = sum(distance_per_step)\n",
    "    for location in best_route:\n",
    "        # Find original location details\n",
    "        for entry, details in locations:\n",
    "            if entry == location[0]:\n",
    "                original_entry = entry\n",
    "                original_details = details\n",
    "        # original_entry = next(entry for entry, _ in locations if entry == location)\n",
    "        # original_details = next(details for entry, details in locations if entry == location)\n",
    "        \n",
    "        route_info.append({\n",
    "            'name': original_entry,\n",
    "            'rating': original_details['rating'],\n",
    "            'total_ratings': original_details['total_ratings'],\n",
    "            'address': original_details['address'],\n",
    "            'distance_till_next': distance_per_step.pop(0)\n",
    "        })\n",
    "    \n",
    "    return {\n",
    "        'optimized_route': route_info,\n",
    "        'total_distance': total_distance\n",
    "    }\n",
    "\n",
    "result = optimize_nantes_route(visitor_frequencies)\n",
    "\n",
    "print(\"Optimized Route:\")\n",
    "for location in result['optimized_route']:\n",
    "    print(f\"- {location['name']} (Rating: {location['rating']}, Address: {location['address']}) - {location['distance_till_next']:.2f} km\")\n",
    "print(f\"\\nTotal Distance: {result['total_distance']:.2f} km\")"
   ]
  },
  {
   "cell_type": "code",
   "execution_count": null,
   "metadata": {},
   "outputs": [
    {
     "data": {
      "application/vnd.jupyter.widget-view+json": {
       "model_id": "c7e0b8f5a6804762b2f75ee82e00f743",
       "version_major": 2,
       "version_minor": 0
      },
      "text/plain": [
       "Downloading shards:   0%|          | 0/17 [00:00<?, ?it/s]"
      ]
     },
     "metadata": {},
     "output_type": "display_data"
    },
    {
     "data": {
      "application/vnd.jupyter.widget-view+json": {
       "model_id": "d71aa2e6c2884373b66bf3b4d7e5cd8c",
       "version_major": 2,
       "version_minor": 0
      },
      "text/plain": [
       "model-00002-of-00017.safetensors:  91%|#########1| 3.55G/3.90G [00:00<?, ?B/s]"
      ]
     },
     "metadata": {},
     "output_type": "display_data"
    },
    {
     "data": {
      "application/vnd.jupyter.widget-view+json": {
       "model_id": "5479c6bf3a3341559790a8c1142b854b",
       "version_major": 2,
       "version_minor": 0
      },
      "text/plain": [
       "model-00003-of-00017.safetensors:   0%|          | 0.00/3.90G [00:00<?, ?B/s]"
      ]
     },
     "metadata": {},
     "output_type": "display_data"
    },
    {
     "data": {
      "application/vnd.jupyter.widget-view+json": {
       "model_id": "36661f45ffaa4ba8835820d06cb9befc",
       "version_major": 2,
       "version_minor": 0
      },
      "text/plain": [
       "model-00004-of-00017.safetensors:   0%|          | 0.00/3.90G [00:00<?, ?B/s]"
      ]
     },
     "metadata": {},
     "output_type": "display_data"
    },
    {
     "data": {
      "application/vnd.jupyter.widget-view+json": {
       "model_id": "aa9210efd62c4a2b93f0a2c4e7ad3776",
       "version_major": 2,
       "version_minor": 0
      },
      "text/plain": [
       "model-00005-of-00017.safetensors:   0%|          | 0.00/3.90G [00:00<?, ?B/s]"
      ]
     },
     "metadata": {},
     "output_type": "display_data"
    }
   ],
   "source": [
    "from transformers import AutoModelForCausalLM, AutoTokenizer\n",
    "\n",
    "model_name = \"Qwen/QwQ-32B-Preview\"\n",
    "\n",
    "model = AutoModelForCausalLM.from_pretrained(\n",
    "    model_name, use_fast=True, device_map=\"auto\",\n",
    "\n",
    ")\n",
    "tokenizer = AutoTokenizer.from_pretrained(model_name)\n",
    "\n",
    "prompt = \"How many r in strawberry.\"\n",
    "messages = [\n",
    "    {\"role\": \"system\", \"content\": \"You are a helpful and harmless assistant. You are Qwen developed by Alibaba. You should think step-by-step.\"},\n",
    "    {\"role\": \"user\", \"content\": prompt}\n",
    "]\n",
    "text = tokenizer.apply_chat_template(\n",
    "    messages,\n",
    "    tokenize=False,\n",
    "    add_generation_prompt=True\n",
    ")\n",
    "model_inputs = tokenizer([text], return_tensors=\"pt\").to(model.device)\n",
    "\n",
    "generated_ids = model.generate(\n",
    "    **model_inputs,\n",
    "    max_new_tokens=512\n",
    ")\n",
    "generated_ids = [\n",
    "    output_ids[len(input_ids):] for input_ids, output_ids in zip(model_inputs.input_ids, generated_ids)\n",
    "]\n",
    "\n",
    "response = tokenizer.batch_decode(generated_ids, skip_special_tokens=True)[0]\n"
   ]
  }
 ],
 "metadata": {
  "kernelspec": {
   "display_name": "base",
   "language": "python",
   "name": "python3"
  },
  "language_info": {
   "codemirror_mode": {
    "name": "ipython",
    "version": 3
   },
   "file_extension": ".py",
   "mimetype": "text/x-python",
   "name": "python",
   "nbconvert_exporter": "python",
   "pygments_lexer": "ipython3",
   "version": "3.12.7"
  }
 },
 "nbformat": 4,
 "nbformat_minor": 2
}
